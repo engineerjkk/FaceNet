{
  "nbformat": 4,
  "nbformat_minor": 0,
  "metadata": {
    "colab": {
      "name": "FaceNet.ipynb",
      "provenance": [],
      "authorship_tag": "ABX9TyM06zBH6ac1SIMP84ROUSNo",
      "include_colab_link": true
    },
    "kernelspec": {
      "name": "python3",
      "display_name": "Python 3"
    },
    "language_info": {
      "name": "python"
    },
    "accelerator": "GPU",
    "gpuClass": "standard"
  },
  "cells": [
    {
      "cell_type": "markdown",
      "metadata": {
        "id": "view-in-github",
        "colab_type": "text"
      },
      "source": [
        "<a href=\"https://colab.research.google.com/github/engineerjkk/FaceNet/blob/main/FaceNet.ipynb\" target=\"_parent\"><img src=\"https://colab.research.google.com/assets/colab-badge.svg\" alt=\"Open In Colab\"/></a>"
      ]
    },
    {
      "cell_type": "code",
      "execution_count": 3,
      "metadata": {
        "id": "jr9CU21nPfJo"
      },
      "outputs": [],
      "source": [
        "import torch\n",
        "import torch.nn as nn\n",
        "from torch.nn.modules.distance import PairwiseDistance\n",
        "\n",
        "class TripletLoss(nn.Module):\n",
        "  def __init__(self, margin):\n",
        "    super(TripletLoss,self).__init__()\n",
        "    self.margin=margin\n",
        "    self.pdist=PairwiseDistance(p=2)\n",
        "\n",
        "  def forward(self,anchor,positive,negative):\n",
        "    pos_dist=self.pdist.forward(anchor,positive)\n",
        "    neg_dist=self.pdist.forward(anchor,negative)\n",
        "\n",
        "    hinge_dist=torch.clamp(self.margin+pos_dist-neg_dist,min=0.0)\n",
        "    loss=torch.mean(hinge_dist)\n",
        "\n",
        "    return loss"
      ]
    },
    {
      "cell_type": "code",
      "source": [
        "from torchvision.models import resnet18\n",
        "from torch.nn import functional as F\n",
        "from torchvision.models import resnet18\n",
        "\n",
        "class FaceNet_ResNet18(nn.Module):\n",
        "  def __init__(self, embedding_dimension=128,pretrained=False):  #embedding dimension은 128로 설정을 해준다. 당시엔 128이 가장 잘됐었다. pretrained를 사용하면 반칙이죠.\n",
        "    super().__init__()\n",
        "    self.model=resnet18(pretrained=pretrained)\n",
        "\n",
        "    #embedding\n",
        "    input_features_fc_layer=self.model.fc.in_features #fc layer 채널수얻기, 128 dimension을 return할 것이고.\n",
        "    self.model.fc=nn.Linear(input_features_fc_layer,embedding_dimension, bias=False)\n",
        "\n",
        "  def forward(self, images):\n",
        "    embedding=self.model(images)\n",
        "    embedding=F.normalize(embedding,p=2,dim=1)#normalize\n",
        "    return embedding"
      ],
      "metadata": {
        "id": "y-MyB5HwP7Y2"
      },
      "execution_count": 10,
      "outputs": []
    },
    {
      "cell_type": "code",
      "source": [
        "model=FaceNet_ResNet18()\n",
        "criterion=TripletLoss(margin=0.2)"
      ],
      "metadata": {
        "colab": {
          "base_uri": "https://localhost:8080/"
        },
        "id": "riDZkNkCQy7J",
        "outputId": "db22bbe5-1133-47c9-e0ba-55c5736a4724"
      },
      "execution_count": 11,
      "outputs": [
        {
          "output_type": "stream",
          "name": "stderr",
          "text": [
            "/usr/local/lib/python3.7/dist-packages/torchvision/models/_utils.py:209: UserWarning: The parameter 'pretrained' is deprecated since 0.13 and will be removed in 0.15, please use 'weights' instead.\n",
            "  f\"The parameter '{pretrained_param}' is deprecated since 0.13 and will be removed in 0.15, \"\n",
            "/usr/local/lib/python3.7/dist-packages/torchvision/models/_utils.py:223: UserWarning: Arguments other than a weight enum or `None` for 'weights' are deprecated since 0.13 and will be removed in 0.15. The current behavior is equivalent to passing `weights=None`.\n",
            "  warnings.warn(msg)\n"
          ]
        }
      ]
    },
    {
      "cell_type": "code",
      "source": [
        "B,C,H,W=4,3,224,224\n",
        "\n",
        "anchor=torch.randn(B,C,H,W)\n",
        "positive=torch.randn(B,C,H,W)\n",
        "negative=torch.randn(B,C,H,W)"
      ],
      "metadata": {
        "id": "qzyWE6wHRT53"
      },
      "execution_count": 12,
      "outputs": []
    },
    {
      "cell_type": "markdown",
      "source": [
        "## 실제 학습을 시키고 싶다면 anchor, positive, negative 에다가 실제 이미지를 넣어주면 된다."
      ],
      "metadata": {
        "id": "poN-YDVuTrhT"
      }
    },
    {
      "cell_type": "code",
      "source": [
        "a_embed=model(anchor)\n",
        "p_embed=model(positive)\n",
        "n_embed=model(negative)"
      ],
      "metadata": {
        "id": "9SLeZI1uRplE"
      },
      "execution_count": 13,
      "outputs": []
    },
    {
      "cell_type": "code",
      "source": [
        "print(a_embed.shape, p_embed.shape, n_embed.shape)"
      ],
      "metadata": {
        "colab": {
          "base_uri": "https://localhost:8080/"
        },
        "id": "lZrCxEz7R156",
        "outputId": "9a0d3792-044f-4104-bb5c-bd764263984d"
      },
      "execution_count": 15,
      "outputs": [
        {
          "output_type": "stream",
          "name": "stdout",
          "text": [
            "torch.Size([4, 128]) torch.Size([4, 128]) torch.Size([4, 128])\n"
          ]
        }
      ]
    },
    {
      "cell_type": "code",
      "source": [
        "loss=criterion(a_embed, p_embed, n_embed)"
      ],
      "metadata": {
        "id": "g3fmM5k9TfBa"
      },
      "execution_count": 17,
      "outputs": []
    },
    {
      "cell_type": "code",
      "source": [
        "loss"
      ],
      "metadata": {
        "colab": {
          "base_uri": "https://localhost:8080/"
        },
        "id": "ylSNeHxWTkhq",
        "outputId": "7e45aa69-b3ac-4e2c-8071-63d688b85030"
      },
      "execution_count": 18,
      "outputs": [
        {
          "output_type": "execute_result",
          "data": {
            "text/plain": [
              "tensor(0.2011, grad_fn=<MeanBackward0>)"
            ]
          },
          "metadata": {},
          "execution_count": 18
        }
      ]
    },
    {
      "cell_type": "code",
      "source": [
        "for data in dataloader:\n",
        "  a=model(data['anchor'])\n",
        "  p=model(data['positive'])\n",
        "  n=model(data['negative'])"
      ],
      "metadata": {
        "id": "q2kY67BfTq0N"
      },
      "execution_count": null,
      "outputs": []
    },
    {
      "cell_type": "code",
      "source": [
        "criterion2=nn.TripletMarginLoss(margin=0.2)"
      ],
      "metadata": {
        "id": "AVwP8-4cUFyh"
      },
      "execution_count": 19,
      "outputs": []
    },
    {
      "cell_type": "code",
      "source": [
        "loss2=criterion2(a_embed,p_embed,n_embed)"
      ],
      "metadata": {
        "id": "PrOXrG51ULXO"
      },
      "execution_count": 20,
      "outputs": []
    },
    {
      "cell_type": "code",
      "source": [
        "loss2"
      ],
      "metadata": {
        "colab": {
          "base_uri": "https://localhost:8080/"
        },
        "id": "Y1FUFZurUNuQ",
        "outputId": "b2355fda-72be-45fc-8dec-fb627a5c89a3"
      },
      "execution_count": 21,
      "outputs": [
        {
          "output_type": "execute_result",
          "data": {
            "text/plain": [
              "tensor(0.2011, grad_fn=<MeanBackward0>)"
            ]
          },
          "metadata": {},
          "execution_count": 21
        }
      ]
    },
    {
      "cell_type": "code",
      "source": [
        ""
      ],
      "metadata": {
        "id": "u0a8A8TNUODU"
      },
      "execution_count": null,
      "outputs": []
    }
  ]
}